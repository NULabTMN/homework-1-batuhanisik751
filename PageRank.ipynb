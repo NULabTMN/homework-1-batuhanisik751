{
  "nbformat": 4,
  "nbformat_minor": 0,
  "metadata": {
    "colab": {
      "name": "PageRank.ipynb",
      "provenance": [],
      "include_colab_link": true
    },
    "kernelspec": {
      "name": "python3",
      "display_name": "Python 3"
    },
    "language_info": {
      "name": "python"
    }
  },
  "cells": [
    {
      "cell_type": "markdown",
      "metadata": {
        "id": "view-in-github",
        "colab_type": "text"
      },
      "source": [
        "<a href=\"https://colab.research.google.com/github/NULabTMN/homework-1-batuhanisik751/blob/main/PageRank.ipynb\" target=\"_parent\"><img src=\"https://colab.research.google.com/assets/colab-badge.svg\" alt=\"Open In Colab\"/></a>"
      ]
    },
    {
      "cell_type": "markdown",
      "metadata": {
        "id": "Q2QKFIlR6HCY"
      },
      "source": [
        "# PageRank\n",
        "\n",
        "In this exercise, you will compute PageRank on a collection of 469,235 web sites using the iterative version of the PageRank algorithm described in class for sparse graphs.  As we discussed in class, this avoids performing cubic-time operations on a graph with a large number of nodes.\n",
        "\n",
        "Furthermore, you should take advantage of the _sparsity_ of the original hyperlinks, even though \"teleportation\" or random jumps connect every note to every other node.  As long as the maximum degree of the original link graph is much less than the number of nodes, you should be able to keep each iteration's runtime less than quadratic in the number of nodes.\n",
        "\n",
        "Consider the following directed graph:\n",
        "\n",
        "![A directed link graph](https://www.khoury.northeastern.edu/home/dasmith/courses/cs6200//pagerank.jpg)\n",
        "\n",
        "We can represent this graph as a collection of nodes, here, ordered pairs of node index and node name:"
      ]
    },
    {
      "cell_type": "code",
      "metadata": {
        "id": "4D_Mxj5pXKPl"
      },
      "source": [
        "small_nodes = [(0, 'A'),\n",
        "              (1, 'B'),\n",
        "              (2, 'C'),\n",
        "              (3, 'D'),\n",
        "              (4, 'E'),\n",
        "              (5, 'F')]"
      ],
      "execution_count": null,
      "outputs": []
    },
    {
      "cell_type": "markdown",
      "metadata": {
        "id": "RTF3JKtTYxiZ"
      },
      "source": [
        "and a collection of directed links, i.e., ordered pairs from source to target:"
      ]
    },
    {
      "cell_type": "code",
      "metadata": {
        "id": "-i0V5ueOYDDN"
      },
      "source": [
        "small_edges = [\n",
        "  (0, 1),\n",
        "  (0, 2),\n",
        "  (0, 5),\n",
        "  (1, 2),\n",
        "  (1, 3),\n",
        "  (1, 4),\n",
        "  (1, 5),\n",
        "  (2, 3),\n",
        "  (2, 4),\n",
        "  (3, 0),\n",
        "  (3, 2),\n",
        "  (3, 4),\n",
        "  (3, 5),\n",
        "  (4, 0),\n",
        "  (5, 0),\n",
        "  (5, 1),\n",
        "  (5, 4)\n",
        "]"
      ],
      "execution_count": null,
      "outputs": []
    },
    {
      "cell_type": "markdown",
      "metadata": {
        "id": "kBVDeszXY4B_"
      },
      "source": [
        "We use integer identifiers for the nodes for efficiency. In most real-world collections of hyperlinks, unlike this example, not every page will have in-links, nor will every page have out-links."
      ]
    },
    {
      "cell_type": "markdown",
      "metadata": {
        "id": "QPNsTGSsEwMX"
      },
      "source": [
        "## First Implementation and Test\n",
        "\n",
        "\\[10 points\\] Implement the iterative PageRank algorithm we discussed in class. Test your code on the six-node example using the input representation given above.  Be sure that your code handles pages that have no in-links or out-links properly.  (You may wish to test on a few such examples.) In later parts of this assignment, depending on how you store the data, it may be convenient to use iterators rather than storing the data in memory."
      ]
    },
    {
      "cell_type": "code",
      "metadata": {
        "id": "NMu_WaDA55sk"
      },
      "source": [
        "import numpy as np\n",
        "from collections import defaultdict\n",
        "import math\n",
        "# TODO: Implement PageRank, given nodes and edges, to start with a uniform\n",
        "# distribution over nodes, run a fixed number of iterations, and\n",
        "# return a distribution over nodes.\n",
        "\n",
        "def page_rank_fixed_iter(nodes, edges, iterations=10):\n",
        "    # Create a record\n",
        "    record = {i: [] for i in range(len(nodes))}\n",
        "    initial = [1/len(nodes)]*len(nodes)\n",
        "\n",
        "    # Apply the source and destination from the prev defined edges\n",
        "    for source, dest in edges:\n",
        "        record[source].append(dest)\n",
        "    for _ in range(iterations):\n",
        "        updated = [0] * len(nodes)\n",
        "\n",
        "        for source in range(len(nodes)):\n",
        "            # Check for links\n",
        "            if len(record[source]) > 0:\n",
        "                # Add link\n",
        "                for dest in record[source]:\n",
        "                    updated[dest] += initial[source] / len(record[source])\n",
        "\n",
        "        for i in range(len(nodes)):\n",
        "            # Update for the value of every i\n",
        "            updated[i] = (0.15/len(nodes)) + (0.85) * updated[i]\n",
        "        initial = updated\n",
        "\n",
        "    result = []\n",
        "    for id, name in nodes:\n",
        "        result.append((id, name, initial[id]))\n",
        "\n",
        "    return result\n",
        "\n",
        "# Output PageRank on the toy graph at various points.\n",
        "# Make sure your output has node number, name, and PageRank value.\n",
        "page_rank_fixed_iter(small_nodes, small_edges, 1)\n",
        "page_rank_fixed_iter(small_nodes, small_edges, 10)\n",
        "page_rank_fixed_iter(small_nodes, small_edges, 100)"
      ],
      "execution_count": null,
      "outputs": []
    },
    {
      "cell_type": "markdown",
      "metadata": {
        "id": "y4duRjzABB9n"
      },
      "source": [
        "## PageRank on Web Crawl Data\n",
        "\n",
        "\\[20 points\\] Download and unpack a list of `.edu` websites and the links among them from the [Common Crawl](https://commoncrawl.org/2017/05/hostgraph-2017-feb-mar-apr-crawls/) open-source web crawl. For the sake of brevity, the data record links among websites, not web pages. The information for nodes and links is the same as the toy example above."
      ]
    },
    {
      "cell_type": "code",
      "metadata": {
        "id": "v6EDDdTQCd3y"
      },
      "source": [
        "# If you're running on a machine (e.g., Windows) that doesn't have wget or gzip,\n",
        "# feel free to comment this out and use a different set of commands to load\n",
        "# the data.\n",
        "!wget https://khoury.northeastern.edu/home/dasmith/courses/cs6200/vertices-edu.txt.gz\n",
        "!gzip -df vertices-edu.txt.gz\n",
        "!wget https://khoury.northeastern.edu/home/dasmith/courses/cs6200/edges-edu.txt.gz\n",
        "!gzip -df edges-edu.txt.gz"
      ],
      "execution_count": null,
      "outputs": []
    },
    {
      "cell_type": "markdown",
      "metadata": {
        "id": "CW4yp1gPUwzb"
      },
      "source": [
        "There should now be files `vertices-edu.txt` and `edges-edu.txt`."
      ]
    },
    {
      "cell_type": "code",
      "metadata": {
        "id": "ly1t9fyjK7eC"
      },
      "source": [
        "# TODO: Process the raw data into the same format as the simple graph.\n",
        "# You may create lists or iterators.\n",
        "edges = []\n",
        "nodes = []\n",
        "\n",
        "with open('edges-edu.txt') as file_e:\n",
        "    for e in file_e:\n",
        "        source, dest = e.split()\n",
        "        edges.append((int(source), int(dest)))\n",
        "\n",
        "with open('vertices-edu.txt') as file_v:\n",
        "    for v in file_v:\n",
        "        id, name = v.split()\n",
        "        nodes.append((int(id), name))"
      ],
      "execution_count": null,
      "outputs": []
    },
    {
      "cell_type": "markdown",
      "metadata": {
        "id": "0WMf5L5VEqZb"
      },
      "source": [
        "Refine your implementation of PageRank to test for numerical convergence. Specificially, at each iteration, calculate the [perplexity](https://en.wikipedia.org/wiki/Perplexity) of the PageRank distribution, where perplexity is defined as 2 raised to the [Shannon entropy](https://en.wikipedia.org/wiki/Entropy_(information_theory)) of the PageRank distribution, i.e., $2^{H(PR)}$. (Recall the definition of entropy from our discussion of data compression.) The maximum perplexity of a PageRank distribution will therefore be the number of nodes in the graph.\n",
        "\n",
        "At each iteration, check the _change_ in perplexity. If the change is less than some threshold, you can stop.\n"
      ]
    },
    {
      "cell_type": "code",
      "metadata": {
        "id": "wsL0yQKvKqAC"
      },
      "source": [
        "# TODO: Implement convergence testing in PageRank\n",
        "# If you choose, you can share some subroutines with your first version.\n",
        "# Print the change in perplexity at each iteration.\n",
        "\n",
        "def perplexity(initial):\n",
        "    value = 0\n",
        "    for p in initial:\n",
        "        if p > 0:\n",
        "            value -= p * math.log2(p)\n",
        "        else:\n",
        "            pass\n",
        "    value = 2 ** value\n",
        "    return value\n",
        "\n",
        "def page_rank(nodes, edges, threshold=1):\n",
        "    # Create a record\n",
        "    record = {i: [] for i in range(len(nodes))}\n",
        "    initial = [1/len(nodes)]*len(nodes)\n",
        "\n",
        "    # Apply the source and destination from the prev defined edges\n",
        "    for source, dest in edges:\n",
        "        record[source].append(dest)\n",
        "\n",
        "    # Add perplexity\n",
        "    perp_old = perplexity(initial)\n",
        "    print(f\"At iteration0 the perplexity is = {perp_old}\")\n",
        "\n",
        "    iter = 1\n",
        "    while True:\n",
        "        updated = [0]*len(nodes)\n",
        "        for source in range(len(nodes)):\n",
        "            # Check for links\n",
        "            if len(record[source]) > 0:\n",
        "                # Add link\n",
        "                for dest in record[source]:\n",
        "                    updated[dest] += initial[source] / len(record[source])\n",
        "\n",
        "        for i in range(len(nodes)):\n",
        "            # Update for the value of every i\n",
        "            updated[i] = (0.15/len(nodes)) + (0.85) * updated[i]\n",
        "\n",
        "        initial = updated\n",
        "\n",
        "        # Add perplexity\n",
        "        perp_new = perplexity(initial)\n",
        "        print(f\"At iteration{iter} the perplexity is = {perp_new}\")\n",
        "\n",
        "        # Check perplexity, VERY IMPORTANT!\n",
        "        if abs(perp_new - perp_old) < threshold:\n",
        "            break\n",
        "\n",
        "        perp_old = perp_new\n",
        "        iter += 1\n",
        "\n",
        "    result = []\n",
        "    for id, name in nodes:\n",
        "        result.append((id, name, initial[id]))\n",
        "\n",
        "    return result\n",
        "\n",
        "PR = page_rank(nodes, edges, 1)\n",
        "print(PR)"
      ],
      "execution_count": null,
      "outputs": []
    },
    {
      "cell_type": "markdown",
      "metadata": {
        "id": "rcncY2QHNl0M"
      },
      "source": [
        "## Link Analysis\n",
        "\n",
        "\\[20 points\\] In this final section, you will compute some properties of this web-site graph.\n",
        "\n",
        "First, consider the _in-link count_ of a website, simply the number of websites pointing to it (including self-links)."
      ]
    },
    {
      "cell_type": "code",
      "metadata": {
        "id": "a_FyPlLSO2bu"
      },
      "source": [
        "# TODO: List the document ID, domain name, and in-link count of the 70 websites with the highest in-link count\n",
        "def extract(a):\n",
        "    return a[2]\n",
        "\n",
        "def in_link(nodes, edges):\n",
        "    # Create a dict\n",
        "    dictionary = {id: 0 for id, _ in nodes}\n",
        "\n",
        "    for source, dest in edges:\n",
        "        dictionary[dest] += 1\n",
        "\n",
        "    result = []\n",
        "    for id, name in nodes:\n",
        "        # Append the id name and link count\n",
        "        result.append((id, name, dictionary[id]))\n",
        "\n",
        "    # Sort by descending order\n",
        "    result.sort(key=extract, reverse=True)\n",
        "\n",
        "    return result\n",
        "\n",
        "dictionary = in_link(nodes, edges)[:70]\n",
        "for id, name, count in dictionary:\n",
        "    print(f\"Document ID: {id}, Domain Name: {name}, In-Link Count: {count}\")"
      ],
      "execution_count": null,
      "outputs": []
    },
    {
      "cell_type": "markdown",
      "metadata": {
        "id": "5uSlQEtmPTTA"
      },
      "source": [
        "Then, use the PageRank values compute by your second implementation. Note that some websites will have both a high in-link count and PageRank."
      ]
    },
    {
      "cell_type": "code",
      "metadata": {
        "id": "nwcci2kdPlMR"
      },
      "source": [
        "# TODO: List the document ID, domain name, and PageRank of the 70 websites with the highest PageRank.\n",
        "top_70 = page_rank(nodes, edges, threshold=1)\n",
        "# Sort for highest PageRank\n",
        "top_70.sort(key=extract, reverse=True)\n",
        "for id, name, count in top_70[:70]:\n",
        "    print(f\"Document ID: {id}, Domain Name: {name}, PageRank: {count}\")"
      ],
      "execution_count": null,
      "outputs": []
    },
    {
      "cell_type": "markdown",
      "metadata": {
        "id": "SxODBxL_Pyy2"
      },
      "source": [
        "Finally, compute some summary statistics on this dataset."
      ]
    },
    {
      "cell_type": "code",
      "metadata": {
        "id": "oD4bq6AyQIsU"
      },
      "source": [
        "# TODO: Compute:\n",
        "def proportion_calculator(nodes, edges, pr):\n",
        "    count_out = {node_id: 0 for node_id, _ in nodes}\n",
        "    count_in = {node_id: 0 for node_id, _ in nodes}\n",
        "\n",
        "    # Count the number of source nodes and sink nodes\n",
        "    for source, dest in edges:\n",
        "        count_out[source] += 1\n",
        "        count_in[dest] += 1\n",
        "\n",
        "    # Source node calculation\n",
        "    source_n = sum(1 for a in count_in.values() if a == 0) / len(nodes)\n",
        "    # Sink node calculation\n",
        "    sink_n = sum(1 for a in count_out.values() if a == 0) / len(nodes)\n",
        "    # Above uniform calculation\n",
        "    above_uniform = sum(1 for _, _, a in pr if a > 1 / len(nodes)) / len(nodes)\n",
        "\n",
        "    return {\n",
        "        \"source_nodes_proportion\": source_n,\n",
        "        \"sink_nodes_proportion\": sink_n,\n",
        "        \"above_uniform_proportion\": above_uniform\n",
        "    }\n",
        "\n",
        "proportion = page_rank(nodes, edges, threshold=1)\n",
        "percentage = proportion_calculator(nodes, edges, proportion)\n",
        "\n",
        "# - the proportion of websites with no in-links (i.e., source nodes);\n",
        "print(percentage['source_nodes_proportion'])\n",
        "# - the proportion of websites with no out-links (i.e., sink nodes);\n",
        "print(percentage['sink_nodes_proportion'])\n",
        "# - the proportion of websites whose PageRank is higher than the initial uniform distribution.\n",
        "print(percentage['above_uniform_proportion'])"
      ],
      "execution_count": null,
      "outputs": []
    }
  ]
}